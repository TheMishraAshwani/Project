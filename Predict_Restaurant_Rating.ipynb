{
  "nbformat": 4,
  "nbformat_minor": 0,
  "metadata": {
    "colab": {
      "provenance": [],
      "mount_file_id": "1lURzF9lO04htNGGWwgVqhX3Z_2RxjP_G",
      "authorship_tag": "ABX9TyNzHcFZyHqLRzjh3B/RFxCt",
      "include_colab_link": true
    },
    "kernelspec": {
      "name": "python3",
      "display_name": "Python 3"
    },
    "language_info": {
      "name": "python"
    }
  },
  "cells": [
    {
      "cell_type": "markdown",
      "metadata": {
        "id": "view-in-github",
        "colab_type": "text"
      },
      "source": [
        "<a href=\"https://colab.research.google.com/github/TheMishraAshwani/Project/blob/main/Predict_Restaurant_Rating.ipynb\" target=\"_parent\"><img src=\"https://colab.research.google.com/assets/colab-badge.svg\" alt=\"Open In Colab\"/></a>"
      ]
    },
    {
      "cell_type": "code",
      "execution_count": 8,
      "metadata": {
        "colab": {
          "base_uri": "https://localhost:8080/"
        },
        "id": "Qf84tPNMPAyP",
        "outputId": "4c4cd8c5-9702-4e09-e2a5-1651bd8ea7bf"
      },
      "outputs": [
        {
          "output_type": "stream",
          "name": "stdout",
          "text": [
            "X_train data types:\n",
            "Restaurant ID              int64\n",
            "Country Code               int64\n",
            "Longitude                float64\n",
            "Latitude                 float64\n",
            "Average Cost for two       int64\n",
            "                          ...   \n",
            "Rating text_Excellent       bool\n",
            "Rating text_Good            bool\n",
            "Rating text_Not rated       bool\n",
            "Rating text_Poor            bool\n",
            "Rating text_Very Good       bool\n",
            "Length: 20819, dtype: object\n",
            "y_train data type:\n",
            "float64\n",
            "Mean Squared Error: 4643.69\n",
            "R-squared: -2026.78\n",
            "\n",
            "Feature Importance:\n",
            "City_Singapore                                                                    226.650344\n",
            "Address_Unitech Cyber Park, Sector 39, Gurgaon                                    205.016787\n",
            "Restaurant Name_Fat Lulu's                                                        203.148789\n",
            "Address_E-42 & 43, Inner Circle, Connaught Place, New Delhi                       202.695280\n",
            "Address_Khan Market, New Delhi                                                    199.079942\n",
            "                                                                                     ...    \n",
            "Restaurant Name_Yomo-Your Only Momo Outlet                                       -167.626124\n",
            "Address_Asf, Insignia, Gwal Pahari, Gurgaon-Faridabad Road, Sector 56, Gurgaon   -167.797736\n",
            "Restaurant Name_Barista                                                          -174.452959\n",
            "Currency_Brazilian Real(R$)                                                      -190.534061\n",
            "Currency_Indian Rupees(Rs.)                                                      -292.767114\n",
            "Length: 20819, dtype: float64\n"
          ]
        }
      ],
      "source": [
        "import pandas as pd\n",
        "from sklearn.model_selection import train_test_split\n",
        "from sklearn.linear_model import LinearRegression\n",
        "from sklearn.metrics import mean_squared_error, r2_score\n",
        "\n",
        "# Load the dataset\n",
        "data = pd.read_csv('/content/Dataset .csv')\n",
        "\n",
        "# Handle missing values\n",
        "data = data.dropna()\n",
        "\n",
        "# Identify string columns (excluding the target variable)\n",
        "string_cols = data.drop('Aggregate rating', axis=1).select_dtypes(include='object').columns\n",
        "\n",
        "# Encode categorical variables\n",
        "data = pd.get_dummies(data, columns=string_cols)\n",
        "\n",
        "# Split the data into training and testing sets\n",
        "X = data.drop('Aggregate rating', axis=1)\n",
        "y = data['Aggregate rating']\n",
        "X_train, X_test, y_train, y_test = train_test_split(X, y, test_size=0.2, random_state=42)\n",
        "\n",
        "# Ensure the data types are correct\n",
        "print(\"X_train data types:\")\n",
        "print(X_train.dtypes)\n",
        "print(\"y_train data type:\")\n",
        "print(y_train.dtypes)\n",
        "\n",
        "# Train the linear regression model\n",
        "try:\n",
        "    model = LinearRegression()\n",
        "    model.fit(X_train, y_train)\n",
        "except ValueError as e:\n",
        "    print(\"Error training the linear regression model:\")\n",
        "    print(e)\n",
        "    print(\"Ensure that the input data contains only numerical values.\")\n",
        "    exit()\n",
        "\n",
        "# Evaluate the model on the testing data\n",
        "y_pred = model.predict(X_test)\n",
        "mse = mean_squared_error(y_test, y_pred)\n",
        "r2 = r2_score(y_test, y_pred)\n",
        "\n",
        "print(f'Mean Squared Error: {mse:.2f}')\n",
        "print(f'R-squared: {r2:.2f}')\n",
        "\n",
        "# Analyze feature importance\n",
        "feature_importances = pd.Series(model.coef_, index=X.columns).sort_values(ascending=False)\n",
        "print('\\nFeature Importance:')\n",
        "print(feature_importances)"
      ]
    }
  ]
}