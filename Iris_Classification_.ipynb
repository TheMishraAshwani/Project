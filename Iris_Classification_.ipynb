{
  "nbformat": 4,
  "nbformat_minor": 0,
  "metadata": {
    "colab": {
      "provenance": [],
      "authorship_tag": "ABX9TyOiMPcHOVXTFffwOcpqBao2",
      "include_colab_link": true
    },
    "kernelspec": {
      "name": "python3",
      "display_name": "Python 3"
    },
    "language_info": {
      "name": "python"
    }
  },
  "cells": [
    {
      "cell_type": "markdown",
      "metadata": {
        "id": "view-in-github",
        "colab_type": "text"
      },
      "source": [
        "<a href=\"https://colab.research.google.com/github/TheMishraAshwani/Project/blob/main/Iris_Classification_.ipynb\" target=\"_parent\"><img src=\"https://colab.research.google.com/assets/colab-badge.svg\" alt=\"Open In Colab\"/></a>"
      ]
    },
    {
      "cell_type": "code",
      "execution_count": 2,
      "metadata": {
        "colab": {
          "base_uri": "https://localhost:8080/"
        },
        "id": "1oWCXzoJywwR",
        "outputId": "54db69e9-89e7-4824-b046-ad2d26ac08ac"
      },
      "outputs": [
        {
          "output_type": "stream",
          "name": "stdout",
          "text": [
            "Accuracy (scikit-learn): 1.0\n",
            "Epoch 1/10\n",
            "4/4 [==============================] - 1s 7ms/step - loss: 0.9294 - accuracy: 0.3667\n",
            "Epoch 2/10\n",
            "4/4 [==============================] - 0s 6ms/step - loss: 0.8579 - accuracy: 0.6667\n",
            "Epoch 3/10\n",
            "4/4 [==============================] - 0s 6ms/step - loss: 0.8143 - accuracy: 0.8000\n",
            "Epoch 4/10\n",
            "4/4 [==============================] - 0s 6ms/step - loss: 0.7806 - accuracy: 0.8750\n",
            "Epoch 5/10\n",
            "4/4 [==============================] - 0s 6ms/step - loss: 0.7465 - accuracy: 0.8500\n",
            "Epoch 6/10\n",
            "4/4 [==============================] - 0s 5ms/step - loss: 0.7188 - accuracy: 0.8333\n",
            "Epoch 7/10\n",
            "4/4 [==============================] - 0s 5ms/step - loss: 0.6975 - accuracy: 0.8333\n",
            "Epoch 8/10\n",
            "4/4 [==============================] - 0s 5ms/step - loss: 0.6768 - accuracy: 0.7833\n",
            "Epoch 9/10\n",
            "4/4 [==============================] - 0s 6ms/step - loss: 0.6576 - accuracy: 0.7500\n",
            "Epoch 10/10\n",
            "4/4 [==============================] - 0s 5ms/step - loss: 0.6393 - accuracy: 0.7917\n",
            "1/1 [==============================] - 0s 106ms/step\n",
            "Accuracy (TensorFlow): 0.8\n"
          ]
        }
      ],
      "source": [
        "import pandas as pd\n",
        "from sklearn.datasets import load_iris\n",
        "from sklearn.model_selection import train_test_split\n",
        "from sklearn.svm import SVC\n",
        "from sklearn.metrics import accuracy_score\n",
        "import tensorflow as tf\n",
        "from tensorflow.keras.models import Sequential\n",
        "from tensorflow.keras.layers import Dense\n",
        "\n",
        "iris = load_iris()\n",
        "X = iris.data\n",
        "y = iris.target\n",
        "\n",
        "X_train, X_test, y_train, y_test = train_test_split(X, y, test_size=0.2, random_state=42)\n",
        "\n",
        "svm_model = SVC(kernel='linear', C=1)\n",
        "svm_model.fit(X_train, y_train)\n",
        "\n",
        "y_pred = svm_model.predict(X_test)\n",
        "print(\"Accuracy (scikit-learn):\", accuracy_score(y_test, y_pred))\n",
        "\n",
        "tf_model = Sequential()\n",
        "tf_model.add(Dense(64, activation='relu', input_shape=(4,)))\n",
        "tf_model.add(Dense(3, activation='softmax'))\n",
        "tf_model.compile(optimizer='adam', loss='sparse_categorical_crossentropy', metrics=['accuracy'])\n",
        "tf_model.fit(X_train, y_train, epochs=10, batch_size=32)\n",
        "\n",
        "y_pred_tf = tf_model.predict(X_test)\n",
        "y_pred_tf_class = tf.argmax(y_pred_tf, axis=1)\n",
        "print(\"Accuracy (TensorFlow):\", accuracy_score(y_test, y_pred_tf_class))"
      ]
    }
  ]
}